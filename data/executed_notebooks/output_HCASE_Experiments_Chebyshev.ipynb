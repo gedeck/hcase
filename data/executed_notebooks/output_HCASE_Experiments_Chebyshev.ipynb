{
 "cells": [
  {
   "cell_type": "code",
   "execution_count": 1,
   "id": "36ce2d4d",
   "metadata": {
    "execution": {
     "iopub.execute_input": "2023-09-24T01:01:59.674612Z",
     "iopub.status.busy": "2023-09-24T01:01:59.674293Z",
     "iopub.status.idle": "2023-09-24T01:01:59.682735Z",
     "shell.execute_reply": "2023-09-24T01:01:59.681891Z"
    }
   },
   "outputs": [],
   "source": [
    "# HCASE Experiments Chebyshev\n",
    "#\n",
    "# Author: Gergely Zahoranszky-Kohalmi, PhD\n",
    "#\n",
    "# Email: gergely.zahoranszky-kohalmi@nih.gov\n",
    "#\n",
    "# Organization: National Center for Advancing Translational Sciences (NCATS/NIH)\n",
    "#"
   ]
  },
  {
   "cell_type": "code",
   "execution_count": 2,
   "id": "59000770",
   "metadata": {
    "execution": {
     "iopub.execute_input": "2023-09-24T01:01:59.686444Z",
     "iopub.status.busy": "2023-09-24T01:01:59.686192Z",
     "iopub.status.idle": "2023-09-24T01:02:01.115410Z",
     "shell.execute_reply": "2023-09-24T01:02:01.114468Z"
    }
   },
   "outputs": [],
   "source": [
    "\n",
    "import pandas as pd\n",
    "\n",
    "\n",
    "from dchebyshev import determine_correlation_glob, determine_correlation_local\n",
    "import numpy as np\n",
    "\n",
    "\n"
   ]
  },
  {
   "cell_type": "code",
   "execution_count": 3,
   "id": "8afc78e0",
   "metadata": {
    "execution": {
     "iopub.execute_input": "2023-09-24T01:02:01.119430Z",
     "iopub.status.busy": "2023-09-24T01:02:01.119075Z",
     "iopub.status.idle": "2023-09-24T01:02:01.123612Z",
     "shell.execute_reply": "2023-09-24T01:02:01.122924Z"
    }
   },
   "outputs": [],
   "source": [
    "# Config section\n",
    "\n",
    "\n",
    "\n",
    "fname_embedding_canvass_natprod = '../data/canvass_emb_hcase_natprod_bms_dim_2.tab'\n",
    "fname_embedding_drugs_natprod = '../data/drugs_emb_hcase_natprod_bms_dim_2.tab'\n",
    "\n",
    "fname_embedding_canvass_chembl = '../data/canvass_emb_hcase_chembl_24_1_bms_dim_2.tab'\n",
    "fname_embedding_drugs_chembl = '../data/drugs_emb_hcase_chembl.tab'\n",
    "\n",
    "fname_out_global_corr = '../data/chebyshev_stat_full.tab'\n",
    "fname_out_local_corr = '../data/chebyshev_stat.tab'\n",
    "\n",
    "\n",
    "random_seed = 55555\n",
    "sample_size = 100\n"
   ]
  },
  {
   "cell_type": "code",
   "execution_count": 4,
   "id": "6bca91a3",
   "metadata": {
    "execution": {
     "iopub.execute_input": "2023-09-24T01:02:01.127041Z",
     "iopub.status.busy": "2023-09-24T01:02:01.126775Z",
     "iopub.status.idle": "2023-09-24T01:02:01.183174Z",
     "shell.execute_reply": "2023-09-24T01:02:01.182367Z"
    }
   },
   "outputs": [],
   "source": [
    "# Import datasets\n",
    "\n",
    "df_embedded_canvass_natprod = pd.read_csv (fname_embedding_canvass_natprod, sep = '\\t')\n",
    "df_embedded_drugs_natprod = pd.read_csv (fname_embedding_drugs_natprod, sep = '\\t')\n",
    "\n",
    "df_embedded_canvass_chembl  = pd.read_csv (fname_embedding_canvass_chembl, sep = '\\t')\n",
    "df_embedded_drugs_chembl  = pd.read_csv (fname_embedding_drugs_chembl, sep = '\\t')"
   ]
  },
  {
   "cell_type": "code",
   "execution_count": 5,
   "id": "7660ec19",
   "metadata": {
    "execution": {
     "iopub.execute_input": "2023-09-24T01:02:01.187775Z",
     "iopub.status.busy": "2023-09-24T01:02:01.187450Z",
     "iopub.status.idle": "2023-09-24T01:02:01.195087Z",
     "shell.execute_reply": "2023-09-24T01:02:01.194432Z"
    }
   },
   "outputs": [],
   "source": [
    "# Functions\n",
    "\n",
    "\n",
    "def compute_global_stat (df_embedding, dataset_name, max_z):\n",
    "    \n",
    "    df_all = pd.DataFrame()\n",
    "\n",
    "   \n",
    "    ord_values = []\n",
    "    corr_values = []\n",
    "\n",
    "    for i in range(2, max_z + 1):\n",
    "        ord_values.append(i)\n",
    "\n",
    "        print (\"[*] Processing dataset: %s at parameter z: %d\" %(dataset_name, i))\n",
    "        df = df_embedding[df_embedding['hc_order'] == i].copy()\n",
    "\n",
    "        (df, cv) = determine_correlation_glob (df)\n",
    "        corr_values.append(cv)\n",
    "        #print (cv)\n",
    "\n",
    "\n",
    "\n",
    "    df_res = pd.DataFrame({'dataset': dataset_name, 'phc_order': ord_values, 'pearson.corr': corr_values})\n",
    "    \n",
    "    \n",
    "    return (df_res)\n",
    "\n",
    "\n",
    "\n",
    "def compute_local_stat (df_embedding, dataset_name, max_z, sample_size, random_seed):\n",
    "    df_all = pd.DataFrame()\n",
    "\n",
    "  \n",
    "    corr_mean_values = []\n",
    "    corr_std_values = []\n",
    "    ord_values = []\n",
    "\n",
    "    for i in range(2, max_z + 1):\n",
    "        corr_values = []\n",
    "        ord_values.append(i)\n",
    "\n",
    "        print (\"[*] Processing dataset: %s at parameter z: %d\" %(dataset_name, i))\n",
    "        df = df_embedding[df_embedding['hc_order'] == i].copy()\n",
    "\n",
    "        while (df.shape[0] >= sample_size):\n",
    "            (df, cv) = determine_correlation_local (df, sample_size, random_seed)\n",
    "            corr_values.append(cv)\n",
    "            #print (cv)\n",
    "\n",
    "        #print (corr_values)\n",
    "\n",
    "        corr_values = np.array(corr_values)\n",
    "        corr_mean_values.append(corr_values.mean())\n",
    "        corr_std_values.append(corr_values.std())\n",
    "\n",
    "    df_res = pd.DataFrame({'dataset': dataset_name, 'phc_order': ord_values, 'pearson.corr.mean': corr_mean_values, 'pearson.corr.std': corr_std_values})\n",
    "\n",
    "\n",
    "    return (df_res)  \n",
    "\n"
   ]
  },
  {
   "cell_type": "code",
   "execution_count": 6,
   "id": "ac32bf1f",
   "metadata": {
    "execution": {
     "iopub.execute_input": "2023-09-24T01:02:01.198697Z",
     "iopub.status.busy": "2023-09-24T01:02:01.198410Z",
     "iopub.status.idle": "2023-09-24T01:15:37.398252Z",
     "shell.execute_reply": "2023-09-24T01:15:37.397492Z"
    }
   },
   "outputs": [
    {
     "name": "stdout",
     "output_type": "stream",
     "text": [
      "[*] Computing global stats .. \n",
      "[*] Processing dataset: drugbank_chembl_bms_full at parameter z: 2\n",
      "[*] Processing dataset: drugbank_chembl_bms_full at parameter z: 3\n",
      "[*] Processing dataset: drugbank_chembl_bms_full at parameter z: 4\n",
      "[*] Processing dataset: drugbank_chembl_bms_full at parameter z: 5\n",
      "[*] Processing dataset: drugbank_chembl_bms_full at parameter z: 6\n",
      "[*] Processing dataset: drugbank_chembl_bms_full at parameter z: 7\n",
      "[*] Processing dataset: drugbank_chembl_bms_full at parameter z: 8\n",
      "[*] Processing dataset: drugbank_natprod_bms_full at parameter z: 2\n",
      "[*] Processing dataset: drugbank_natprod_bms_full at parameter z: 3\n",
      "[*] Processing dataset: drugbank_natprod_bms_full at parameter z: 4\n",
      "[*] Processing dataset: drugbank_natprod_bms_full at parameter z: 5\n",
      "[*] Processing dataset: canvass_chembl_bms_full at parameter z: 2\n",
      "[*] Processing dataset: canvass_chembl_bms_full at parameter z: 3\n",
      "[*] Processing dataset: canvass_chembl_bms_full at parameter z: 4\n",
      "[*] Processing dataset: canvass_chembl_bms_full at parameter z: 5\n",
      "[*] Processing dataset: canvass_chembl_bms_full at parameter z: 6\n",
      "[*] Processing dataset: canvass_chembl_bms_full at parameter z: 7\n",
      "[*] Processing dataset: canvass_chembl_bms_full at parameter z: 8\n",
      "[*] Processing dataset: canvass_natprod_bms_full at parameter z: 2\n",
      "[*] Processing dataset: canvass_natprod_bms_full at parameter z: 3\n",
      "[*] Processing dataset: canvass_natprod_bms_full at parameter z: 4\n",
      "[*] Processing dataset: canvass_natprod_bms_full at parameter z: 5\n",
      " .. done\n"
     ]
    }
   ],
   "source": [
    "# Workflow\n",
    "\n",
    "# Perform global stats\n",
    "\n",
    "print ('[*] Computing global stats .. ')\n",
    "       \n",
    "df_all_glob = pd.DataFrame()\n",
    "\n",
    "dataset_name = 'drugbank_chembl_bms_full'\n",
    "max_z = 8\n",
    "\n",
    "df_drug_chembl_glob_corr = compute_global_stat (df_embedded_drugs_chembl, dataset_name, max_z)\n",
    "\n",
    "\n",
    "df_all_glob = df_drug_chembl_glob_corr\n",
    "\n",
    "\n",
    "\n",
    "dataset_name = 'drugbank_natprod_bms_full'\n",
    "max_z = 5\n",
    "\n",
    "\n",
    "df_drug_natprod_glob_corr = compute_global_stat (df_embedded_drugs_natprod, dataset_name, max_z)\n",
    "\n",
    "df_all_glob = df_all_glob.append (df_drug_natprod_glob_corr, ignore_index = True)\n",
    "\n",
    "\n",
    "df_all_glob = df_all_glob.reset_index (drop = True)\n",
    "\n",
    "\n",
    "dataset_name = 'canvass_chembl_bms_full'\n",
    "max_z = 8\n",
    "\n",
    "df_canvass_chembl_glob_corr = compute_global_stat (df_embedded_canvass_chembl, dataset_name, max_z)\n",
    "\n",
    "df_all_glob = df_all_glob.append (df_canvass_chembl_glob_corr, ignore_index = True)\n",
    "\n",
    "\n",
    "df_all_glob = df_all_glob.reset_index (drop = True)\n",
    "\n",
    "\n",
    "\n",
    "dataset_name = 'canvass_natprod_bms_full'\n",
    "max_z = 5\n",
    "\n",
    "df_canvass_natprod_glob_corr = compute_global_stat (df_embedded_canvass_natprod, dataset_name, max_z)\n",
    "\n",
    "df_all_glob = df_all_glob.append (df_canvass_natprod_glob_corr, ignore_index = True)\n",
    "\n",
    "\n",
    "df_all_glob = df_all_glob.reset_index (drop = True)\n",
    "\n",
    "\n",
    "\n",
    "\n",
    "\n",
    "df_all_glob.to_csv (fname_out_global_corr, sep = '\\t', index = False)\n",
    "\n",
    "print (' .. done')"
   ]
  },
  {
   "cell_type": "code",
   "execution_count": 7,
   "id": "1a3ac0d2",
   "metadata": {
    "execution": {
     "iopub.execute_input": "2023-09-24T01:15:37.401939Z",
     "iopub.status.busy": "2023-09-24T01:15:37.401653Z",
     "iopub.status.idle": "2023-09-24T01:16:42.922311Z",
     "shell.execute_reply": "2023-09-24T01:16:42.921557Z"
    }
   },
   "outputs": [
    {
     "name": "stdout",
     "output_type": "stream",
     "text": [
      "[*] Computing local stats .. \n",
      "[*] Processing dataset: drugbank_chembl_bms at parameter z: 2\n",
      "[*] Processing dataset: drugbank_chembl_bms at parameter z: 3\n",
      "[*] Processing dataset: drugbank_chembl_bms at parameter z: 4\n",
      "[*] Processing dataset: drugbank_chembl_bms at parameter z: 5\n",
      "[*] Processing dataset: drugbank_chembl_bms at parameter z: 6\n",
      "[*] Processing dataset: drugbank_chembl_bms at parameter z: 7\n",
      "[*] Processing dataset: drugbank_chembl_bms at parameter z: 8\n",
      "[*] Processing dataset: drugbank_natprod_bms at parameter z: 2\n",
      "[*] Processing dataset: drugbank_natprod_bms at parameter z: 3\n",
      "[*] Processing dataset: drugbank_natprod_bms at parameter z: 4\n",
      "[*] Processing dataset: drugbank_natprod_bms at parameter z: 5\n",
      "[*] Processing dataset: canvass_chembl_bms at parameter z: 2\n",
      "[*] Processing dataset: canvass_chembl_bms at parameter z: 3\n",
      "[*] Processing dataset: canvass_chembl_bms at parameter z: 4\n",
      "[*] Processing dataset: canvass_chembl_bms at parameter z: 5\n",
      "[*] Processing dataset: canvass_chembl_bms at parameter z: 6\n",
      "[*] Processing dataset: canvass_chembl_bms at parameter z: 7\n",
      "[*] Processing dataset: canvass_chembl_bms at parameter z: 8\n",
      "[*] Processing dataset: canvass_natprod_bms at parameter z: 2\n",
      "[*] Processing dataset: canvass_natprod_bms at parameter z: 3\n",
      "[*] Processing dataset: canvass_natprod_bms at parameter z: 4\n",
      "[*] Processing dataset: canvass_natprod_bms at parameter z: 5\n",
      " .. done\n"
     ]
    }
   ],
   "source": [
    "# Perform local stats\n",
    "\n",
    "print ('[*] Computing local stats .. ')\n",
    "\n",
    "df_all_local = pd.DataFrame()\n",
    "\n",
    "\n",
    "dataset_name = 'drugbank_chembl_bms'\n",
    "max_z = 8\n",
    "\n",
    "df_drug_chembl_local_corr = compute_local_stat (df_embedded_drugs_chembl, dataset_name, max_z, sample_size, random_seed)\n",
    "\n",
    "\n",
    "df_all_local = df_drug_chembl_local_corr\n",
    "\n",
    "\n",
    "dataset_name = 'drugbank_natprod_bms'\n",
    "max_z = 5\n",
    "\n",
    "df_drug_natprod_local_corr = compute_local_stat (df_embedded_drugs_natprod, dataset_name, max_z, sample_size, random_seed)\n",
    "\n",
    "df_all_local = df_all_local.append (df_drug_natprod_local_corr, ignore_index = True)\n",
    "\n",
    "df_all_local = df_all_local.reset_index (drop = True)\n",
    "\n",
    "\n",
    "\n",
    "dataset_name = 'canvass_chembl_bms'\n",
    "max_z = 8\n",
    "\n",
    "df_canvass_chembl_local_corr = compute_local_stat (df_embedded_canvass_chembl, dataset_name, max_z, sample_size, random_seed)\n",
    "\n",
    "df_all_local = df_all_local.append (df_canvass_chembl_local_corr, ignore_index = True)\n",
    "\n",
    "df_all_local = df_all_local.reset_index (drop = True)\n",
    "\n",
    "\n",
    "\n",
    "dataset_name = 'canvass_natprod_bms'\n",
    "max_z = 5\n",
    "\n",
    "df_canvass_natprod_local_corr = compute_local_stat (df_embedded_canvass_natprod, dataset_name, max_z, sample_size, random_seed)\n",
    "\n",
    "df_all_local = df_all_local.append (df_canvass_natprod_local_corr, ignore_index = True)\n",
    "\n",
    "df_all_local = df_all_local.reset_index (drop = True)\n",
    "\n",
    "\n",
    "df_all_local.to_csv (fname_out_local_corr, sep = '\\t', index = False)\n",
    "\n",
    "print (' .. done')"
   ]
  },
  {
   "cell_type": "code",
   "execution_count": 8,
   "id": "74568262",
   "metadata": {
    "execution": {
     "iopub.execute_input": "2023-09-24T01:16:42.926107Z",
     "iopub.status.busy": "2023-09-24T01:16:42.925709Z",
     "iopub.status.idle": "2023-09-24T01:16:42.929649Z",
     "shell.execute_reply": "2023-09-24T01:16:42.928782Z"
    }
   },
   "outputs": [],
   "source": [
    "# References:\n",
    "\n",
    "# Ref: https://forum.knime.com/t/tanimoto-similarity-using-count-based-fingerprints/12176/3\n",
    "# Ref: https://pubs.acs.org/doi/full/10.1021/ci9800211\n",
    "# Ref: https://jcheminf.biomedcentral.com/articles/10.1186/s13321-015-0069-3?optIn=false\n",
    "\n",
    "# Ref: https://docs.scipy.org/doc/scipy/reference/generated/scipy.spatial.distance.chebyshev.html\n",
    "# Ref: https://www.geeksforgeeks.org/python-pandas-dataframe-corr/\n",
    "\n",
    "\n"
   ]
  },
  {
   "cell_type": "code",
   "execution_count": null,
   "id": "3e55d182",
   "metadata": {},
   "outputs": [],
   "source": []
  }
 ],
 "metadata": {
  "kernelspec": {
   "display_name": "Python 3 (ipykernel)",
   "language": "python",
   "name": "python3"
  },
  "language_info": {
   "codemirror_mode": {
    "name": "ipython",
    "version": 3
   },
   "file_extension": ".py",
   "mimetype": "text/x-python",
   "name": "python",
   "nbconvert_exporter": "python",
   "pygments_lexer": "ipython3",
   "version": "3.7.16"
  }
 },
 "nbformat": 4,
 "nbformat_minor": 5
}
